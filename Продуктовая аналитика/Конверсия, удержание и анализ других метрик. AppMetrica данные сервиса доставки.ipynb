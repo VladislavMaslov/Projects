{
 "cells": [
  {
   "cell_type": "markdown",
   "metadata": {},
   "source": [
    "## Данные: \n",
    "Данные из AppMetrica компании по доставке продуктов\n",
    "\n",
    "date – дата совершения события\\\n",
    "event - событие\\\n",
    "os_name – платформа пользователя\\\n",
    "city – город пользователя\\\n",
    "device_id – идентификатор устройства пользователя\\\n",
    "urm_source – канал, с которого пришел пользователь\n",
    "\n",
    "## Задачи:\n",
    "Отобразить MAU по месяцам\\\n",
    "Отобразить кол-во установок по месяцам\\\n",
    "Провести анализ CR узнать для какой когорты было максимальное значение\\\n",
    "С какого платного маркетингового канала пришло больше всего новых пользователей?\\\n",
    "CR в покупку у разных маркетинговых каналов\\\n",
    "Медианный чек у каналов привлечения\\\n",
    "Суммарная прибыль у каналов привлечения\n",
    "\n"
   ]
  },
  {
   "cell_type": "code",
   "execution_count": 3,
   "metadata": {},
   "outputs": [],
   "source": [
    "import pandas as pd\n",
    "import numpy as np\n",
    "import seaborn as sns\n",
    "import matplotlib.pyplot as plt\n",
    "%matplotlib inline"
   ]
  },
  {
   "cell_type": "code",
   "execution_count": 376,
   "metadata": {},
   "outputs": [],
   "source": [
    "df = pd.read_csv('./KC_case_data .csv')"
   ]
  },
  {
   "cell_type": "code",
   "execution_count": 6,
   "metadata": {},
   "outputs": [
    {
     "data": {
      "text/html": [
       "<div>\n",
       "<style scoped>\n",
       "    .dataframe tbody tr th:only-of-type {\n",
       "        vertical-align: middle;\n",
       "    }\n",
       "\n",
       "    .dataframe tbody tr th {\n",
       "        vertical-align: top;\n",
       "    }\n",
       "\n",
       "    .dataframe thead th {\n",
       "        text-align: right;\n",
       "    }\n",
       "</style>\n",
       "<table border=\"1\" class=\"dataframe\">\n",
       "  <thead>\n",
       "    <tr style=\"text-align: right;\">\n",
       "      <th></th>\n",
       "      <th>date</th>\n",
       "      <th>event</th>\n",
       "      <th>purchase_sum</th>\n",
       "      <th>os_name</th>\n",
       "      <th>device_id</th>\n",
       "      <th>gender</th>\n",
       "      <th>city</th>\n",
       "      <th>utm_source</th>\n",
       "    </tr>\n",
       "  </thead>\n",
       "  <tbody>\n",
       "    <tr>\n",
       "      <th>0</th>\n",
       "      <td>2020-01-01</td>\n",
       "      <td>app_start</td>\n",
       "      <td>NaN</td>\n",
       "      <td>android</td>\n",
       "      <td>669460</td>\n",
       "      <td>female</td>\n",
       "      <td>Moscow</td>\n",
       "      <td>-</td>\n",
       "    </tr>\n",
       "    <tr>\n",
       "      <th>1</th>\n",
       "      <td>2020-01-01</td>\n",
       "      <td>app_start</td>\n",
       "      <td>NaN</td>\n",
       "      <td>ios</td>\n",
       "      <td>833621</td>\n",
       "      <td>male</td>\n",
       "      <td>Moscow</td>\n",
       "      <td>vk_ads</td>\n",
       "    </tr>\n",
       "    <tr>\n",
       "      <th>2</th>\n",
       "      <td>2020-01-01</td>\n",
       "      <td>app_start</td>\n",
       "      <td>NaN</td>\n",
       "      <td>android</td>\n",
       "      <td>1579237</td>\n",
       "      <td>male</td>\n",
       "      <td>Saint-Petersburg</td>\n",
       "      <td>referal</td>\n",
       "    </tr>\n",
       "    <tr>\n",
       "      <th>3</th>\n",
       "      <td>2020-01-01</td>\n",
       "      <td>app_start</td>\n",
       "      <td>NaN</td>\n",
       "      <td>android</td>\n",
       "      <td>1737182</td>\n",
       "      <td>female</td>\n",
       "      <td>Moscow</td>\n",
       "      <td>facebook_ads</td>\n",
       "    </tr>\n",
       "    <tr>\n",
       "      <th>4</th>\n",
       "      <td>2020-01-01</td>\n",
       "      <td>app_start</td>\n",
       "      <td>NaN</td>\n",
       "      <td>ios</td>\n",
       "      <td>4029024</td>\n",
       "      <td>female</td>\n",
       "      <td>Moscow</td>\n",
       "      <td>facebook_ads</td>\n",
       "    </tr>\n",
       "  </tbody>\n",
       "</table>\n",
       "</div>"
      ],
      "text/plain": [
       "         date      event  purchase_sum  os_name  device_id  gender  \\\n",
       "0  2020-01-01  app_start           NaN  android     669460  female   \n",
       "1  2020-01-01  app_start           NaN      ios     833621    male   \n",
       "2  2020-01-01  app_start           NaN  android    1579237    male   \n",
       "3  2020-01-01  app_start           NaN  android    1737182  female   \n",
       "4  2020-01-01  app_start           NaN      ios    4029024  female   \n",
       "\n",
       "               city    utm_source  \n",
       "0            Moscow             -  \n",
       "1            Moscow        vk_ads  \n",
       "2  Saint-Petersburg       referal  \n",
       "3            Moscow  facebook_ads  \n",
       "4            Moscow  facebook_ads  "
      ]
     },
     "execution_count": 6,
     "metadata": {},
     "output_type": "execute_result"
    }
   ],
   "source": [
    "df.head()"
   ]
  },
  {
   "cell_type": "code",
   "execution_count": 9,
   "metadata": {},
   "outputs": [],
   "source": [
    "df.date = pd.to_datetime(df.date)"
   ]
  },
  {
   "cell_type": "code",
   "execution_count": 21,
   "metadata": {},
   "outputs": [],
   "source": [
    "df['month'] = df.date.dt.month"
   ]
  },
  {
   "cell_type": "code",
   "execution_count": 29,
   "metadata": {},
   "outputs": [
    {
     "data": {
      "text/plain": [
       "month\n",
       "1    99161\n",
       "2    75032\n",
       "3    74623\n",
       "Name: device_id, dtype: int64"
      ]
     },
     "execution_count": 29,
     "metadata": {},
     "output_type": "execute_result"
    }
   ],
   "source": [
    "df.groupby('month')['device_id'].nunique()\n",
    "#MAU по месяцам"
   ]
  },
  {
   "cell_type": "code",
   "execution_count": 33,
   "metadata": {},
   "outputs": [
    {
     "data": {
      "text/plain": [
       "month\n",
       "1    80297\n",
       "2    38078\n",
       "3    36222\n",
       "Name: event, dtype: int64"
      ]
     },
     "execution_count": 33,
     "metadata": {},
     "output_type": "execute_result"
    }
   ],
   "source": [
    "df.query(\"event == 'app_install'\").groupby('month')['event'].count()\n",
    "#installs по месяцам"
   ]
  },
  {
   "cell_type": "markdown",
   "metadata": {},
   "source": [
    "## Когортный анализ CR"
   ]
  },
  {
   "cell_type": "code",
   "execution_count": 42,
   "metadata": {},
   "outputs": [],
   "source": [
    "df['dateins'] = df.query(\"event == 'app_install'\").date #формирую новую колонку с датой установки по пользователю"
   ]
  },
  {
   "cell_type": "code",
   "execution_count": 196,
   "metadata": {},
   "outputs": [],
   "source": [
    "df['date_purch'] = df.query(\"event == 'purchase'\").date #формирую новую колонку с датой первой оплаты пользователя"
   ]
  },
  {
   "cell_type": "code",
   "execution_count": 208,
   "metadata": {},
   "outputs": [],
   "source": [
    "kdf = df.groupby('device_id', as_index = False).agg({'dateins':'max', 'date_purch':'min'})"
   ]
  },
  {
   "cell_type": "code",
   "execution_count": 209,
   "metadata": {},
   "outputs": [],
   "source": [
    "kdf = kdf.dropna()"
   ]
  },
  {
   "cell_type": "code",
   "execution_count": 210,
   "metadata": {},
   "outputs": [
    {
     "data": {
      "text/html": [
       "<div>\n",
       "<style scoped>\n",
       "    .dataframe tbody tr th:only-of-type {\n",
       "        vertical-align: middle;\n",
       "    }\n",
       "\n",
       "    .dataframe tbody tr th {\n",
       "        vertical-align: top;\n",
       "    }\n",
       "\n",
       "    .dataframe thead th {\n",
       "        text-align: right;\n",
       "    }\n",
       "</style>\n",
       "<table border=\"1\" class=\"dataframe\">\n",
       "  <thead>\n",
       "    <tr style=\"text-align: right;\">\n",
       "      <th></th>\n",
       "      <th>device_id</th>\n",
       "      <th>dateins</th>\n",
       "      <th>date_purch</th>\n",
       "    </tr>\n",
       "  </thead>\n",
       "  <tbody>\n",
       "    <tr>\n",
       "      <th>4</th>\n",
       "      <td>4046</td>\n",
       "      <td>2020-01-04</td>\n",
       "      <td>2020-01-04</td>\n",
       "    </tr>\n",
       "    <tr>\n",
       "      <th>10</th>\n",
       "      <td>4120</td>\n",
       "      <td>2020-01-07</td>\n",
       "      <td>2020-01-07</td>\n",
       "    </tr>\n",
       "    <tr>\n",
       "      <th>11</th>\n",
       "      <td>4125</td>\n",
       "      <td>2020-01-07</td>\n",
       "      <td>2020-01-07</td>\n",
       "    </tr>\n",
       "    <tr>\n",
       "      <th>14</th>\n",
       "      <td>4202</td>\n",
       "      <td>2020-01-08</td>\n",
       "      <td>2020-02-27</td>\n",
       "    </tr>\n",
       "    <tr>\n",
       "      <th>19</th>\n",
       "      <td>4234</td>\n",
       "      <td>2020-02-19</td>\n",
       "      <td>2020-02-19</td>\n",
       "    </tr>\n",
       "    <tr>\n",
       "      <th>...</th>\n",
       "      <td>...</td>\n",
       "      <td>...</td>\n",
       "      <td>...</td>\n",
       "    </tr>\n",
       "    <tr>\n",
       "      <th>190851</th>\n",
       "      <td>35315632</td>\n",
       "      <td>2020-03-31</td>\n",
       "      <td>2020-03-31</td>\n",
       "    </tr>\n",
       "    <tr>\n",
       "      <th>190855</th>\n",
       "      <td>35321120</td>\n",
       "      <td>2020-03-25</td>\n",
       "      <td>2020-03-25</td>\n",
       "    </tr>\n",
       "    <tr>\n",
       "      <th>190866</th>\n",
       "      <td>35342310</td>\n",
       "      <td>2020-03-27</td>\n",
       "      <td>2020-03-27</td>\n",
       "    </tr>\n",
       "    <tr>\n",
       "      <th>190875</th>\n",
       "      <td>35367797</td>\n",
       "      <td>2020-03-29</td>\n",
       "      <td>2020-03-29</td>\n",
       "    </tr>\n",
       "    <tr>\n",
       "      <th>190877</th>\n",
       "      <td>35370030</td>\n",
       "      <td>2020-03-31</td>\n",
       "      <td>2020-03-31</td>\n",
       "    </tr>\n",
       "  </tbody>\n",
       "</table>\n",
       "<p>57458 rows × 3 columns</p>\n",
       "</div>"
      ],
      "text/plain": [
       "        device_id    dateins date_purch\n",
       "4            4046 2020-01-04 2020-01-04\n",
       "10           4120 2020-01-07 2020-01-07\n",
       "11           4125 2020-01-07 2020-01-07\n",
       "14           4202 2020-01-08 2020-02-27\n",
       "19           4234 2020-02-19 2020-02-19\n",
       "...           ...        ...        ...\n",
       "190851   35315632 2020-03-31 2020-03-31\n",
       "190855   35321120 2020-03-25 2020-03-25\n",
       "190866   35342310 2020-03-27 2020-03-27\n",
       "190875   35367797 2020-03-29 2020-03-29\n",
       "190877   35370030 2020-03-31 2020-03-31\n",
       "\n",
       "[57458 rows x 3 columns]"
      ]
     },
     "execution_count": 210,
     "metadata": {},
     "output_type": "execute_result"
    }
   ],
   "source": [
    "kdf"
   ]
  },
  {
   "cell_type": "code",
   "execution_count": 211,
   "metadata": {},
   "outputs": [],
   "source": [
    "kdf['dif'] = kdf.date_purch - kdf.dateins"
   ]
  },
  {
   "cell_type": "code",
   "execution_count": 212,
   "metadata": {},
   "outputs": [
    {
     "data": {
      "text/plain": [
       "Timedelta('7 days 00:00:00')"
      ]
     },
     "execution_count": 212,
     "metadata": {},
     "output_type": "execute_result"
    }
   ],
   "source": [
    "fft = pd.Timedelta(7, 'd')\n",
    "fft"
   ]
  },
  {
   "cell_type": "code",
   "execution_count": 213,
   "metadata": {},
   "outputs": [],
   "source": [
    "kdf = kdf.query('dif <= @fft')"
   ]
  },
  {
   "cell_type": "code",
   "execution_count": 226,
   "metadata": {},
   "outputs": [
    {
     "data": {
      "text/html": [
       "<div>\n",
       "<style scoped>\n",
       "    .dataframe tbody tr th:only-of-type {\n",
       "        vertical-align: middle;\n",
       "    }\n",
       "\n",
       "    .dataframe tbody tr th {\n",
       "        vertical-align: top;\n",
       "    }\n",
       "\n",
       "    .dataframe thead th {\n",
       "        text-align: right;\n",
       "    }\n",
       "</style>\n",
       "<table border=\"1\" class=\"dataframe\">\n",
       "  <thead>\n",
       "    <tr style=\"text-align: right;\">\n",
       "      <th></th>\n",
       "      <th>device_id</th>\n",
       "      <th>dateins</th>\n",
       "      <th>date_purch</th>\n",
       "      <th>dif</th>\n",
       "    </tr>\n",
       "  </thead>\n",
       "  <tbody>\n",
       "    <tr>\n",
       "      <th>4</th>\n",
       "      <td>4046</td>\n",
       "      <td>2020-01-04</td>\n",
       "      <td>2020-01-04</td>\n",
       "      <td>0 days</td>\n",
       "    </tr>\n",
       "    <tr>\n",
       "      <th>10</th>\n",
       "      <td>4120</td>\n",
       "      <td>2020-01-07</td>\n",
       "      <td>2020-01-07</td>\n",
       "      <td>0 days</td>\n",
       "    </tr>\n",
       "    <tr>\n",
       "      <th>11</th>\n",
       "      <td>4125</td>\n",
       "      <td>2020-01-07</td>\n",
       "      <td>2020-01-07</td>\n",
       "      <td>0 days</td>\n",
       "    </tr>\n",
       "    <tr>\n",
       "      <th>19</th>\n",
       "      <td>4234</td>\n",
       "      <td>2020-02-19</td>\n",
       "      <td>2020-02-19</td>\n",
       "      <td>0 days</td>\n",
       "    </tr>\n",
       "    <tr>\n",
       "      <th>20</th>\n",
       "      <td>4244</td>\n",
       "      <td>2020-03-19</td>\n",
       "      <td>2020-03-19</td>\n",
       "      <td>0 days</td>\n",
       "    </tr>\n",
       "    <tr>\n",
       "      <th>...</th>\n",
       "      <td>...</td>\n",
       "      <td>...</td>\n",
       "      <td>...</td>\n",
       "      <td>...</td>\n",
       "    </tr>\n",
       "    <tr>\n",
       "      <th>190851</th>\n",
       "      <td>35315632</td>\n",
       "      <td>2020-03-31</td>\n",
       "      <td>2020-03-31</td>\n",
       "      <td>0 days</td>\n",
       "    </tr>\n",
       "    <tr>\n",
       "      <th>190855</th>\n",
       "      <td>35321120</td>\n",
       "      <td>2020-03-25</td>\n",
       "      <td>2020-03-25</td>\n",
       "      <td>0 days</td>\n",
       "    </tr>\n",
       "    <tr>\n",
       "      <th>190866</th>\n",
       "      <td>35342310</td>\n",
       "      <td>2020-03-27</td>\n",
       "      <td>2020-03-27</td>\n",
       "      <td>0 days</td>\n",
       "    </tr>\n",
       "    <tr>\n",
       "      <th>190875</th>\n",
       "      <td>35367797</td>\n",
       "      <td>2020-03-29</td>\n",
       "      <td>2020-03-29</td>\n",
       "      <td>0 days</td>\n",
       "    </tr>\n",
       "    <tr>\n",
       "      <th>190877</th>\n",
       "      <td>35370030</td>\n",
       "      <td>2020-03-31</td>\n",
       "      <td>2020-03-31</td>\n",
       "      <td>0 days</td>\n",
       "    </tr>\n",
       "  </tbody>\n",
       "</table>\n",
       "<p>46674 rows × 4 columns</p>\n",
       "</div>"
      ],
      "text/plain": [
       "        device_id    dateins date_purch    dif\n",
       "4            4046 2020-01-04 2020-01-04 0 days\n",
       "10           4120 2020-01-07 2020-01-07 0 days\n",
       "11           4125 2020-01-07 2020-01-07 0 days\n",
       "19           4234 2020-02-19 2020-02-19 0 days\n",
       "20           4244 2020-03-19 2020-03-19 0 days\n",
       "...           ...        ...        ...    ...\n",
       "190851   35315632 2020-03-31 2020-03-31 0 days\n",
       "190855   35321120 2020-03-25 2020-03-25 0 days\n",
       "190866   35342310 2020-03-27 2020-03-27 0 days\n",
       "190875   35367797 2020-03-29 2020-03-29 0 days\n",
       "190877   35370030 2020-03-31 2020-03-31 0 days\n",
       "\n",
       "[46674 rows x 4 columns]"
      ]
     },
     "execution_count": 226,
     "metadata": {},
     "output_type": "execute_result"
    }
   ],
   "source": [
    "kdf"
   ]
  },
  {
   "cell_type": "code",
   "execution_count": 236,
   "metadata": {},
   "outputs": [
    {
     "data": {
      "text/plain": [
       "dateins\n",
       "2020-01-01    1408\n",
       "Name: device_id, dtype: int64"
      ]
     },
     "execution_count": 236,
     "metadata": {},
     "output_type": "execute_result"
    }
   ],
   "source": [
    "kdf.groupby('dateins')['device_id'].count().head(1)\n",
    "#Когорта с наибольшими установками - 2020-01-01"
   ]
  },
  {
   "cell_type": "code",
   "execution_count": 237,
   "metadata": {},
   "outputs": [
    {
     "data": {
      "text/plain": [
       "dateins\n",
       "2020-01-01    3579\n",
       "Name: device_id, dtype: int64"
      ]
     },
     "execution_count": 237,
     "metadata": {},
     "output_type": "execute_result"
    }
   ],
   "source": [
    "df.groupby('dateins')['device_id'].count().head(1)\n",
    "#Всего установок"
   ]
  },
  {
   "cell_type": "code",
   "execution_count": 235,
   "metadata": {},
   "outputs": [
    {
     "data": {
      "text/plain": [
       "39.340597932383346"
      ]
     },
     "execution_count": 235,
     "metadata": {},
     "output_type": "execute_result"
    }
   ],
   "source": [
    "1408/3579*100\n",
    "#CR за 01.01.2020"
   ]
  },
  {
   "cell_type": "markdown",
   "metadata": {},
   "source": [
    "## Каналы привлечения и Retention"
   ]
  },
  {
   "cell_type": "code",
   "execution_count": 240,
   "metadata": {},
   "outputs": [
    {
     "data": {
      "text/plain": [
       "utm_source\n",
       "referal          15926\n",
       "facebook_ads     25959\n",
       "instagram_ads    31048\n",
       "vk_ads           34086\n",
       "google_ads       38096\n",
       "yandex-direct    40712\n",
       "-                52273\n",
       "Name: device_id, dtype: int64"
      ]
     },
     "execution_count": 240,
     "metadata": {},
     "output_type": "execute_result"
    }
   ],
   "source": [
    "df.groupby('utm_source')['device_id'].nunique().sort_values()\n",
    "#каналы привлечения юзеров\n",
    "#Больше всего пришло пользователей из яндекса"
   ]
  },
  {
   "cell_type": "code",
   "execution_count": 267,
   "metadata": {},
   "outputs": [],
   "source": [
    "df= df.drop(columns = ['regdate'])"
   ]
  },
  {
   "cell_type": "code",
   "execution_count": 275,
   "metadata": {},
   "outputs": [],
   "source": [
    "rdf = df.query(\"event == 'register'\").groupby('device_id', as_index = False).agg({'date':'min'}).rename(columns = {'date':'regdate'})"
   ]
  },
  {
   "cell_type": "code",
   "execution_count": 278,
   "metadata": {},
   "outputs": [],
   "source": [
    "ndf = pd.merge(df, rdf, how = 'inner', on = 'device_id')"
   ]
  },
  {
   "cell_type": "code",
   "execution_count": 282,
   "metadata": {},
   "outputs": [
    {
     "data": {
      "text/plain": [
       "event\n",
       "app_start      40991\n",
       "search         40482\n",
       "choose_item    37926\n",
       "tap_basket     34517\n",
       "purchase       24880\n",
       "Name: device_id, dtype: int64"
      ]
     },
     "execution_count": 282,
     "metadata": {},
     "output_type": "execute_result"
    }
   ],
   "source": [
    "ndf.query('regdate < date').groupby('event')['device_id'].nunique().sort_values(ascending=False)\n",
    "#Воронка магазина.\n",
    "#Больше всего пользователей отваливается на этапе перехода в корзину"
   ]
  },
  {
   "cell_type": "code",
   "execution_count": 308,
   "metadata": {},
   "outputs": [
    {
     "data": {
      "text/plain": [
       "utm_source\n",
       "-                0.317556\n",
       "facebook_ads     0.347382\n",
       "google_ads       0.297674\n",
       "instagram_ads    0.346658\n",
       "referal          0.399523\n",
       "vk_ads           0.362804\n",
       "yandex-direct    0.295477\n",
       "Name: device_id, dtype: float64"
      ]
     },
     "execution_count": 308,
     "metadata": {},
     "output_type": "execute_result"
    }
   ],
   "source": [
    "df.query(\"event == 'purchase'\").groupby('utm_source')['device_id'].nunique().sort_values() / df.query(\"event == 'app_start'\").groupby('utm_source')['device_id'].nunique().sort_values()\n",
    "#CR из запуска приложения в покупку по каналам привлечения\n",
    "#Самый низкий CR у Яндекса"
   ]
  },
  {
   "cell_type": "code",
   "execution_count": 386,
   "metadata": {},
   "outputs": [],
   "source": [
    "mdf = df.query(\"event == 'purchase'\").groupby('device_id', as_index = False).agg({'date':'min'}) \n",
    "#Дата первой покупки пользователя"
   ]
  },
  {
   "cell_type": "code",
   "execution_count": 405,
   "metadata": {},
   "outputs": [
    {
     "data": {
      "text/html": [
       "<div>\n",
       "<style scoped>\n",
       "    .dataframe tbody tr th:only-of-type {\n",
       "        vertical-align: middle;\n",
       "    }\n",
       "\n",
       "    .dataframe tbody tr th {\n",
       "        vertical-align: top;\n",
       "    }\n",
       "\n",
       "    .dataframe thead th {\n",
       "        text-align: right;\n",
       "    }\n",
       "</style>\n",
       "<table border=\"1\" class=\"dataframe\">\n",
       "  <thead>\n",
       "    <tr style=\"text-align: right;\">\n",
       "      <th></th>\n",
       "      <th>device_id</th>\n",
       "      <th>date</th>\n",
       "    </tr>\n",
       "  </thead>\n",
       "  <tbody>\n",
       "    <tr>\n",
       "      <th>0</th>\n",
       "      <td>4014</td>\n",
       "      <td>2020-02-01</td>\n",
       "    </tr>\n",
       "    <tr>\n",
       "      <th>1</th>\n",
       "      <td>4046</td>\n",
       "      <td>2020-01-04</td>\n",
       "    </tr>\n",
       "    <tr>\n",
       "      <th>2</th>\n",
       "      <td>4060</td>\n",
       "      <td>2020-03-07</td>\n",
       "    </tr>\n",
       "    <tr>\n",
       "      <th>3</th>\n",
       "      <td>4120</td>\n",
       "      <td>2020-01-07</td>\n",
       "    </tr>\n",
       "    <tr>\n",
       "      <th>4</th>\n",
       "      <td>4125</td>\n",
       "      <td>2020-01-07</td>\n",
       "    </tr>\n",
       "  </tbody>\n",
       "</table>\n",
       "</div>"
      ],
      "text/plain": [
       "   device_id        date\n",
       "0       4014  2020-02-01\n",
       "1       4046  2020-01-04\n",
       "2       4060  2020-03-07\n",
       "3       4120  2020-01-07\n",
       "4       4125  2020-01-07"
      ]
     },
     "execution_count": 405,
     "metadata": {},
     "output_type": "execute_result"
    }
   ],
   "source": [
    "mdf.head()"
   ]
  },
  {
   "cell_type": "code",
   "execution_count": 400,
   "metadata": {},
   "outputs": [],
   "source": [
    "xdf = pd.merge(mdf, df[['device_id', 'purchase_sum', 'utm_source', 'date']], how = 'left', on = ['device_id','date'])"
   ]
  },
  {
   "cell_type": "code",
   "execution_count": 401,
   "metadata": {},
   "outputs": [],
   "source": [
    "xdf = xdf.dropna()"
   ]
  },
  {
   "cell_type": "code",
   "execution_count": 404,
   "metadata": {},
   "outputs": [
    {
     "data": {
      "text/html": [
       "<div>\n",
       "<style scoped>\n",
       "    .dataframe tbody tr th:only-of-type {\n",
       "        vertical-align: middle;\n",
       "    }\n",
       "\n",
       "    .dataframe tbody tr th {\n",
       "        vertical-align: top;\n",
       "    }\n",
       "\n",
       "    .dataframe thead th {\n",
       "        text-align: right;\n",
       "    }\n",
       "</style>\n",
       "<table border=\"1\" class=\"dataframe\">\n",
       "  <thead>\n",
       "    <tr style=\"text-align: right;\">\n",
       "      <th></th>\n",
       "      <th>device_id</th>\n",
       "      <th>date</th>\n",
       "      <th>purchase_sum</th>\n",
       "      <th>utm_source</th>\n",
       "    </tr>\n",
       "  </thead>\n",
       "  <tbody>\n",
       "    <tr>\n",
       "      <th>2</th>\n",
       "      <td>4014</td>\n",
       "      <td>2020-02-01</td>\n",
       "      <td>86.0</td>\n",
       "      <td>referal</td>\n",
       "    </tr>\n",
       "    <tr>\n",
       "      <th>8</th>\n",
       "      <td>4046</td>\n",
       "      <td>2020-01-04</td>\n",
       "      <td>429.5</td>\n",
       "      <td>-</td>\n",
       "    </tr>\n",
       "    <tr>\n",
       "      <th>15</th>\n",
       "      <td>4060</td>\n",
       "      <td>2020-03-07</td>\n",
       "      <td>172.5</td>\n",
       "      <td>yandex-direct</td>\n",
       "    </tr>\n",
       "    <tr>\n",
       "      <th>21</th>\n",
       "      <td>4120</td>\n",
       "      <td>2020-01-07</td>\n",
       "      <td>598.5</td>\n",
       "      <td>instagram_ads</td>\n",
       "    </tr>\n",
       "    <tr>\n",
       "      <th>28</th>\n",
       "      <td>4125</td>\n",
       "      <td>2020-01-07</td>\n",
       "      <td>566.0</td>\n",
       "      <td>yandex-direct</td>\n",
       "    </tr>\n",
       "  </tbody>\n",
       "</table>\n",
       "</div>"
      ],
      "text/plain": [
       "    device_id        date  purchase_sum     utm_source\n",
       "2        4014  2020-02-01          86.0        referal\n",
       "8        4046  2020-01-04         429.5              -\n",
       "15       4060  2020-03-07         172.5  yandex-direct\n",
       "21       4120  2020-01-07         598.5  instagram_ads\n",
       "28       4125  2020-01-07         566.0  yandex-direct"
      ]
     },
     "execution_count": 404,
     "metadata": {},
     "output_type": "execute_result"
    }
   ],
   "source": [
    "xdf.head()"
   ]
  },
  {
   "cell_type": "code",
   "execution_count": 403,
   "metadata": {},
   "outputs": [
    {
     "data": {
      "text/plain": [
       "utm_source\n",
       "-                398.5\n",
       "facebook_ads     389.0\n",
       "google_ads       390.5\n",
       "instagram_ads    393.5\n",
       "referal          395.5\n",
       "vk_ads           393.0\n",
       "yandex-direct    392.5\n",
       "Name: purchase_sum, dtype: float64"
      ]
     },
     "execution_count": 403,
     "metadata": {},
     "output_type": "execute_result"
    }
   ],
   "source": [
    "xdf.groupby('utm_source')['purchase_sum'].median()\n",
    "#расчет медианного первого чека пользователя привлеченного по разным каналам"
   ]
  },
  {
   "cell_type": "code",
   "execution_count": 418,
   "metadata": {},
   "outputs": [
    {
     "data": {
      "text/plain": [
       "utm_source\n",
       "-                21449749.5\n",
       "facebook_ads     12249901.0\n",
       "google_ads       12868276.0\n",
       "instagram_ads    14546969.0\n",
       "referal           8837044.5\n",
       "vk_ads           16389652.5\n",
       "yandex-direct    13915368.0\n",
       "Name: purchase_sum, dtype: float64"
      ]
     },
     "execution_count": 418,
     "metadata": {},
     "output_type": "execute_result"
    }
   ],
   "source": [
    "df.groupby('utm_source')['purchase_sum'].sum()\n",
    "#Суммарная прибыль от каналов привлечения"
   ]
  },
  {
   "cell_type": "code",
   "execution_count": null,
   "metadata": {},
   "outputs": [],
   "source": []
  }
 ],
 "metadata": {
  "kernelspec": {
   "display_name": "Python 3 (ipykernel)",
   "language": "python",
   "name": "python3"
  },
  "language_info": {
   "codemirror_mode": {
    "name": "ipython",
    "version": 3
   },
   "file_extension": ".py",
   "mimetype": "text/x-python",
   "name": "python",
   "nbconvert_exporter": "python",
   "pygments_lexer": "ipython3",
   "version": "3.9.12"
  }
 },
 "nbformat": 4,
 "nbformat_minor": 4
}
