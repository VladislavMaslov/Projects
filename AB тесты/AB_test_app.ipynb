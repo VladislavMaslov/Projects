{
 "cells": [
  {
   "cell_type": "code",
   "execution_count": 417,
   "id": "7a2edd80",
   "metadata": {},
   "outputs": [],
   "source": [
    "import pandas as pd\n",
    "import numpy as np\n",
    "import seaborn as sns\n",
    "import scipy.stats as ss\n",
    "from scipy.stats import chi2_contingency, chi2\n",
    "import matplotlib.pyplot as plt\n",
    "%matplotlib inline\n",
    "sns.set(font_scale = 2, style = 'darkgrid', rc = {'figure.figsize':(7, 7)})\n",
    "from tqdm.auto import tqdm\n",
    "from scipy.stats import norm"
   ]
  },
  {
   "cell_type": "markdown",
   "id": "add3b763",
   "metadata": {},
   "source": [
    "# Retention 1-го дня. A/B тест"
   ]
  },
  {
   "cell_type": "code",
   "execution_count": 280,
   "id": "1ef8b823",
   "metadata": {},
   "outputs": [],
   "source": [
    "control_all = 11850\n",
    "test_all = 11620\n",
    "control_ins = 3795\n",
    "test_ins = 3835\n",
    "#задаю основные параметры распределений"
   ]
  },
  {
   "cell_type": "code",
   "execution_count": 284,
   "id": "abdeb55e",
   "metadata": {},
   "outputs": [],
   "source": [
    "control = [0]*(control_all - control_ins) + [1]*control_ins\n",
    "test = [0]*(test_all - test_ins) + [1]*test_ins\n",
    "group_a = ['control']*len(control)\n",
    "group_b = ['test']*len(test)\n",
    "data = control + test\n",
    "group = group_a+group_b\n",
    "#инициализирую распределение с единицами и нулями, где 0 - установка, 1 - возврат в приложение"
   ]
  },
  {
   "cell_type": "code",
   "execution_count": 296,
   "id": "a73a777b",
   "metadata": {},
   "outputs": [
    {
     "data": {
      "text/html": [
       "<div>\n",
       "<style scoped>\n",
       "    .dataframe tbody tr th:only-of-type {\n",
       "        vertical-align: middle;\n",
       "    }\n",
       "\n",
       "    .dataframe tbody tr th {\n",
       "        vertical-align: top;\n",
       "    }\n",
       "\n",
       "    .dataframe thead th {\n",
       "        text-align: right;\n",
       "    }\n",
       "</style>\n",
       "<table border=\"1\" class=\"dataframe\">\n",
       "  <thead>\n",
       "    <tr style=\"text-align: right;\">\n",
       "      <th></th>\n",
       "      <th>group</th>\n",
       "      <th>data</th>\n",
       "    </tr>\n",
       "  </thead>\n",
       "  <tbody>\n",
       "    <tr>\n",
       "      <th>0</th>\n",
       "      <td>control</td>\n",
       "      <td>0</td>\n",
       "    </tr>\n",
       "    <tr>\n",
       "      <th>1</th>\n",
       "      <td>control</td>\n",
       "      <td>0</td>\n",
       "    </tr>\n",
       "    <tr>\n",
       "      <th>2</th>\n",
       "      <td>control</td>\n",
       "      <td>0</td>\n",
       "    </tr>\n",
       "    <tr>\n",
       "      <th>3</th>\n",
       "      <td>control</td>\n",
       "      <td>0</td>\n",
       "    </tr>\n",
       "    <tr>\n",
       "      <th>4</th>\n",
       "      <td>control</td>\n",
       "      <td>0</td>\n",
       "    </tr>\n",
       "  </tbody>\n",
       "</table>\n",
       "</div>"
      ],
      "text/plain": [
       "     group  data\n",
       "0  control     0\n",
       "1  control     0\n",
       "2  control     0\n",
       "3  control     0\n",
       "4  control     0"
      ]
     },
     "execution_count": 296,
     "metadata": {},
     "output_type": "execute_result"
    }
   ],
   "source": [
    "df= pd.DataFrame({'group':group, 'data':data})\n",
    "df.head()"
   ]
  },
  {
   "cell_type": "code",
   "execution_count": 295,
   "id": "43ad7790",
   "metadata": {},
   "outputs": [
    {
     "data": {
      "text/html": [
       "<div>\n",
       "<style scoped>\n",
       "    .dataframe tbody tr th:only-of-type {\n",
       "        vertical-align: middle;\n",
       "    }\n",
       "\n",
       "    .dataframe tbody tr th {\n",
       "        vertical-align: top;\n",
       "    }\n",
       "\n",
       "    .dataframe thead th {\n",
       "        text-align: right;\n",
       "    }\n",
       "</style>\n",
       "<table border=\"1\" class=\"dataframe\">\n",
       "  <thead>\n",
       "    <tr style=\"text-align: right;\">\n",
       "      <th>group</th>\n",
       "      <th>control</th>\n",
       "      <th>test</th>\n",
       "    </tr>\n",
       "    <tr>\n",
       "      <th>data</th>\n",
       "      <th></th>\n",
       "      <th></th>\n",
       "    </tr>\n",
       "  </thead>\n",
       "  <tbody>\n",
       "    <tr>\n",
       "      <th>0</th>\n",
       "      <td>8055</td>\n",
       "      <td>7785</td>\n",
       "    </tr>\n",
       "    <tr>\n",
       "      <th>1</th>\n",
       "      <td>3795</td>\n",
       "      <td>3835</td>\n",
       "    </tr>\n",
       "  </tbody>\n",
       "</table>\n",
       "</div>"
      ],
      "text/plain": [
       "group  control  test\n",
       "data                \n",
       "0         8055  7785\n",
       "1         3795  3835"
      ]
     },
     "execution_count": 295,
     "metadata": {},
     "output_type": "execute_result"
    }
   ],
   "source": [
    "abdata = pd.crosstab(df.data, df.group)\n",
    "abdata"
   ]
  },
  {
   "cell_type": "code",
   "execution_count": 294,
   "id": "8e9cdace",
   "metadata": {},
   "outputs": [
    {
     "name": "stdout",
     "output_type": "stream",
     "text": [
      "Принемаем нулевую гипотезу, p-value =  0.113\n"
     ]
    }
   ],
   "source": [
    "stat, p, dof, expected = chi2_contingency(abdata)\n",
    "if p <= 0.05:\n",
    "    print('Отклоняем нулевую гипотезу, p-value = ', round(p, 3))\n",
    "else:\n",
    "    print('Принемаем нулевую гипотезу, p-value = ', round(p, 3))\n",
    "#A/B тестирование Кси-квадрат тестом"
   ]
  },
  {
   "cell_type": "markdown",
   "id": "c31cadab",
   "metadata": {},
   "source": [
    "# CR. A/B тест"
   ]
  },
  {
   "cell_type": "code",
   "execution_count": 297,
   "id": "4741c719",
   "metadata": {},
   "outputs": [],
   "source": [
    "control_all = 11850\n",
    "test_all = 11620\n",
    "control_ins = 10867\n",
    "test_ins = 10559\n",
    "#задаю основные параметры распределений"
   ]
  },
  {
   "cell_type": "code",
   "execution_count": 298,
   "id": "a4ff96e6",
   "metadata": {},
   "outputs": [],
   "source": [
    "control = [0]*(control_all - control_ins) + [1]*control_ins\n",
    "test = [0]*(test_all - test_ins) + [1]*test_ins\n",
    "group_a = ['control']*len(control)\n",
    "group_b = ['test']*len(test)\n",
    "data = control + test\n",
    "group = group_a+group_b\n",
    "#инициализирую распределение с единицами и нулями, где 0 - установка, 1 - покупка стикерпака"
   ]
  },
  {
   "cell_type": "code",
   "execution_count": 299,
   "id": "5f15f4a3",
   "metadata": {},
   "outputs": [
    {
     "data": {
      "text/html": [
       "<div>\n",
       "<style scoped>\n",
       "    .dataframe tbody tr th:only-of-type {\n",
       "        vertical-align: middle;\n",
       "    }\n",
       "\n",
       "    .dataframe tbody tr th {\n",
       "        vertical-align: top;\n",
       "    }\n",
       "\n",
       "    .dataframe thead th {\n",
       "        text-align: right;\n",
       "    }\n",
       "</style>\n",
       "<table border=\"1\" class=\"dataframe\">\n",
       "  <thead>\n",
       "    <tr style=\"text-align: right;\">\n",
       "      <th></th>\n",
       "      <th>group</th>\n",
       "      <th>data</th>\n",
       "    </tr>\n",
       "  </thead>\n",
       "  <tbody>\n",
       "    <tr>\n",
       "      <th>0</th>\n",
       "      <td>control</td>\n",
       "      <td>0</td>\n",
       "    </tr>\n",
       "    <tr>\n",
       "      <th>1</th>\n",
       "      <td>control</td>\n",
       "      <td>0</td>\n",
       "    </tr>\n",
       "    <tr>\n",
       "      <th>2</th>\n",
       "      <td>control</td>\n",
       "      <td>0</td>\n",
       "    </tr>\n",
       "    <tr>\n",
       "      <th>3</th>\n",
       "      <td>control</td>\n",
       "      <td>0</td>\n",
       "    </tr>\n",
       "    <tr>\n",
       "      <th>4</th>\n",
       "      <td>control</td>\n",
       "      <td>0</td>\n",
       "    </tr>\n",
       "  </tbody>\n",
       "</table>\n",
       "</div>"
      ],
      "text/plain": [
       "     group  data\n",
       "0  control     0\n",
       "1  control     0\n",
       "2  control     0\n",
       "3  control     0\n",
       "4  control     0"
      ]
     },
     "execution_count": 299,
     "metadata": {},
     "output_type": "execute_result"
    }
   ],
   "source": [
    "df= pd.DataFrame({'group':group, 'data':data})\n",
    "df.head()"
   ]
  },
  {
   "cell_type": "code",
   "execution_count": 300,
   "id": "1cbfc15f",
   "metadata": {},
   "outputs": [
    {
     "data": {
      "text/html": [
       "<div>\n",
       "<style scoped>\n",
       "    .dataframe tbody tr th:only-of-type {\n",
       "        vertical-align: middle;\n",
       "    }\n",
       "\n",
       "    .dataframe tbody tr th {\n",
       "        vertical-align: top;\n",
       "    }\n",
       "\n",
       "    .dataframe thead th {\n",
       "        text-align: right;\n",
       "    }\n",
       "</style>\n",
       "<table border=\"1\" class=\"dataframe\">\n",
       "  <thead>\n",
       "    <tr style=\"text-align: right;\">\n",
       "      <th>group</th>\n",
       "      <th>control</th>\n",
       "      <th>test</th>\n",
       "    </tr>\n",
       "    <tr>\n",
       "      <th>data</th>\n",
       "      <th></th>\n",
       "      <th></th>\n",
       "    </tr>\n",
       "  </thead>\n",
       "  <tbody>\n",
       "    <tr>\n",
       "      <th>0</th>\n",
       "      <td>983</td>\n",
       "      <td>1061</td>\n",
       "    </tr>\n",
       "    <tr>\n",
       "      <th>1</th>\n",
       "      <td>10867</td>\n",
       "      <td>10559</td>\n",
       "    </tr>\n",
       "  </tbody>\n",
       "</table>\n",
       "</div>"
      ],
      "text/plain": [
       "group  control   test\n",
       "data                 \n",
       "0          983   1061\n",
       "1        10867  10559"
      ]
     },
     "execution_count": 300,
     "metadata": {},
     "output_type": "execute_result"
    }
   ],
   "source": [
    "abdata = pd.crosstab(df.data, df.group)\n",
    "abdata"
   ]
  },
  {
   "cell_type": "code",
   "execution_count": 301,
   "id": "679a183a",
   "metadata": {},
   "outputs": [
    {
     "name": "stdout",
     "output_type": "stream",
     "text": [
      "Отклоняем нулевую гипотезу, p-value =  0.025\n"
     ]
    }
   ],
   "source": [
    "stat, p, dof, expected = chi2_contingency(abdata)\n",
    "if p <= 0.05:\n",
    "    print('Отклоняем нулевую гипотезу, p-value = ', round(p, 3))\n",
    "else:\n",
    "    print('Принемаем нулевую гипотезу, p-value = ', round(p, 3))\n",
    "#A/B тестирование Кси-квадрат тестом"
   ]
  },
  {
   "cell_type": "markdown",
   "id": "4e0ab240",
   "metadata": {},
   "source": [
    "# Среднее число открытых стикерпаков на пользователя. A/B тест"
   ]
  },
  {
   "cell_type": "code",
   "execution_count": 313,
   "id": "6843fefa",
   "metadata": {},
   "outputs": [],
   "source": [
    "mean_control = 8.84\n",
    "sigma_control = 9.87\n",
    "size_control = 11850\n",
    "mean_test = 9.34\n",
    "sigma_test = 9.86\n",
    "size_test = 11620\n",
    "#задаю основные параметры распределений"
   ]
  },
  {
   "cell_type": "code",
   "execution_count": 346,
   "id": "76649d70",
   "metadata": {},
   "outputs": [],
   "source": [
    "control_group= sigma_control * np.random.randn(size_control) + mean_control\n",
    "#инициализирую распределение с заданными параметрами среднего и стандартного отклонения"
   ]
  },
  {
   "cell_type": "code",
   "execution_count": 421,
   "id": "37708898",
   "metadata": {},
   "outputs": [
    {
     "data": {
      "text/plain": [
       "8.840898283833157"
      ]
     },
     "execution_count": 421,
     "metadata": {},
     "output_type": "execute_result"
    }
   ],
   "source": [
    "control_group.mean()"
   ]
  },
  {
   "cell_type": "code",
   "execution_count": 388,
   "id": "7b37c4ef",
   "metadata": {},
   "outputs": [],
   "source": [
    "test_group= sigma_test * np.random.randn(size_test) + mean_test\n",
    "#инициализирую распределение с заданными параметрами среднего и стандартного отклонения"
   ]
  },
  {
   "cell_type": "code",
   "execution_count": 422,
   "id": "1d80c460",
   "metadata": {},
   "outputs": [
    {
     "data": {
      "text/plain": [
       "9.343901650125572"
      ]
     },
     "execution_count": 422,
     "metadata": {},
     "output_type": "execute_result"
    }
   ],
   "source": [
    "test_group.mean()"
   ]
  },
  {
   "cell_type": "code",
   "execution_count": 395,
   "id": "bec1498a",
   "metadata": {},
   "outputs": [
    {
     "data": {
      "text/plain": [
       "Ttest_indResult(statistic=-3.8976715519075724, pvalue=9.739182876704498e-05)"
      ]
     },
     "execution_count": 395,
     "metadata": {},
     "output_type": "execute_result"
    }
   ],
   "source": [
    "ss.ttest_ind(control_group, test_group)\n",
    "#Тест критерий Стьюдента"
   ]
  },
  {
   "cell_type": "markdown",
   "id": "7c04328f",
   "metadata": {},
   "source": [
    "### Отклоняем нулевую гипотезу о равенстве средних"
   ]
  },
  {
   "cell_type": "code",
   "execution_count": 409,
   "id": "b9bb4ed9",
   "metadata": {},
   "outputs": [],
   "source": [
    "def get_bootstrap(\n",
    "    data_column_1, # числовые значения первой выборки\n",
    "    data_column_2, # числовые значения второй выборки\n",
    "    boot_it = 1000, # количество бутстрэп-подвыборок\n",
    "    statistic = np.mean, # интересующая нас статистика\n",
    "    bootstrap_conf_level = 0.95 # уровень значимости\n",
    "):\n",
    "    boot_len = max([len(data_column_1), len(data_column_2)])\n",
    "    boot_data = []\n",
    "    for i in tqdm(range(boot_it)): # извлекаем подвыборки\n",
    "        samples_1 = data_column_1.sample(\n",
    "            boot_len, \n",
    "            replace = True # параметр возвращения\n",
    "        ).values\n",
    "        \n",
    "        samples_2 = data_column_2.sample(\n",
    "            boot_len, \n",
    "            replace = True\n",
    "        ).values\n",
    "        \n",
    "        boot_data.append(statistic(samples_1-samples_2)) # mean() - применяем статистику\n",
    "        \n",
    "    pd_boot_data = pd.DataFrame(boot_data)\n",
    "        \n",
    "    left_quant = (1 - bootstrap_conf_level)/2\n",
    "    right_quant = 1 - (1 - bootstrap_conf_level) / 2\n",
    "    ci = pd_boot_data.quantile([left_quant, right_quant])\n",
    "        \n",
    "    p_1 = norm.cdf(\n",
    "        x = 0, \n",
    "        loc = np.mean(boot_data), \n",
    "        scale = np.std(boot_data)\n",
    "    )\n",
    "    p_2 = norm.cdf(\n",
    "        x = 0, \n",
    "        loc = -np.mean(boot_data), \n",
    "        scale = np.std(boot_data)\n",
    "    )\n",
    "    p_value = min(p_1, p_2) * 2\n",
    "        \n",
    "    # Визуализация\n",
    "    plt.hist(pd_boot_data[0], bins = 50)\n",
    "    \n",
    "    plt.style.use('ggplot')\n",
    "    plt.vlines(ci,ymin=0,ymax=50,linestyle='--')\n",
    "    plt.xlabel('boot_data')\n",
    "    plt.ylabel('frequency')\n",
    "    plt.title(\"Histogram of boot_data\")\n",
    "    plt.show()\n",
    "       \n",
    "    return {\"boot_data\": boot_data, \n",
    "            \"ci\": ci, \n",
    "            \"p_value\": p_value}"
   ]
  },
  {
   "cell_type": "code",
   "execution_count": 418,
   "id": "dbae03f4",
   "metadata": {},
   "outputs": [
    {
     "data": {
      "application/vnd.jupyter.widget-view+json": {
       "model_id": "b882c12523ac41d8b3a95c811cea6979",
       "version_major": 2,
       "version_minor": 0
      },
      "text/plain": [
       "  0%|          | 0/1000 [00:00<?, ?it/s]"
      ]
     },
     "metadata": {},
     "output_type": "display_data"
    },
    {
     "data": {
      "image/png": "[encoded data removed]",
      "text/plain": [
       "<Figure size 504x504 with 1 Axes>"
      ]
     },
     "metadata": {},
     "output_type": "display_data"
    }
   ],
   "source": [
    "ctTrap = get_bootstrap(pd.Series(control_group), pd.Series(test_group))\n",
    "#Бутстрэп тест"
   ]
  },
  {
   "cell_type": "code",
   "execution_count": 420,
   "id": "136bbc00",
   "metadata": {},
   "outputs": [
    {
     "data": {
      "text/plain": [
       "0.0001071315818130219"
      ]
     },
     "execution_count": 420,
     "metadata": {},
     "output_type": "execute_result"
    }
   ],
   "source": [
    "ctTrap['p_value']"
   ]
  },
  {
   "cell_type": "markdown",
   "id": "1bcd4fe6",
   "metadata": {},
   "source": [
    "### Бутстрэп тест также отвергает нулевую гипотезу о равенстве средних"
   ]
  }
 ],
 "metadata": {
  "kernelspec": {
   "display_name": "Python 3 (ipykernel)",
   "language": "python",
   "name": "python3"
  },
  "language_info": {
   "codemirror_mode": {
    "name": "ipython",
    "version": 3
   },
   "file_extension": ".py",
   "mimetype": "text/x-python",
   "name": "python",
   "nbconvert_exporter": "python",
   "pygments_lexer": "ipython3",
   "version": "3.9.12"
  }
 },
 "nbformat": 4,
 "nbformat_minor": 5
}
