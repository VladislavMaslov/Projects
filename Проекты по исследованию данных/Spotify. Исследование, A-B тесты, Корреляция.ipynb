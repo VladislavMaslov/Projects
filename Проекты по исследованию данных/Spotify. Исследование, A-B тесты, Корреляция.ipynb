{
 "cells": [
  {
   "cell_type": "markdown",
   "id": "d70fc0bb",
   "metadata": {},
   "source": [
    "## Данные:\n",
    "Датасет просулшанных альбомов одного из музыкальных сообществ Бразилии\\\n",
    "album - альбом\\\n",
    "acousticness - акустичность\\\n",
    "danceability - танцевальность\\\n",
    "energy - энергия\\\n",
    "instrumentalness - инструментальность\\\n",
    "liveness - живость\\\n",
    "loudness - громкость\\\n",
    "speechiness\t- речёвость\\\n",
    "tempo - темп\\\n",
    "valence\t- валентность эмоций \\\n",
    "duration_ms\ttime_signature\t- длительность в мс\\\n",
    "Nota - Оценка\\\n",
    "Ano de Lançamento - год выпуска\t\\\n",
    "País - Страна\n",
    "\n",
    "## Задачи:\n",
    "Определить топ-3 страны происхождения альбомов\\\n",
    "Определить топ-3 года выпуска альбомов\\\n",
    "Определить минимальную, среднюю и максимальную продолжительность прослушивания\\\n",
    "Показать распределение темпа по годам\\\n",
    "Провести A/B тест распределения темпа среди альбомов с хорошими оценками и остальными альбомами\\\n",
    "Провести A/B тест распределения речевости среди альбомов из Бразилии и остальными альбомами\\\n",
    "Рассчитать коэф. корреляции между показателем энергии и оценкой альбома\\\n",
    "Рассчитать коэф. корреляции между показателем валентности и оценкой альбома"
   ]
  },
  {
   "cell_type": "code",
   "execution_count": 1,
   "id": "0cee0bdf",
   "metadata": {},
   "outputs": [],
   "source": [
    "import pandas as pd\n",
    "import numpy as np\n",
    "import seaborn as sns\n",
    "import matplotlib.pyplot as plt\n",
    "import warnings\n",
    "import scipy.stats as ss\n",
    "warnings.filterwarnings('ignore')"
   ]
  },
  {
   "cell_type": "code",
   "execution_count": 2,
   "id": "7637faed",
   "metadata": {},
   "outputs": [],
   "source": [
    "df= pd.read_csv('../Missed migrabts/mysongs_test.csv')"
   ]
  },
  {
   "cell_type": "code",
   "execution_count": 3,
   "id": "719ed362",
   "metadata": {},
   "outputs": [],
   "source": [
    "df = df.drop(columns = 'Unnamed: 0')"
   ]
  },
  {
   "cell_type": "code",
   "execution_count": 4,
   "id": "665fa977",
   "metadata": {},
   "outputs": [],
   "source": [
    "df.duration_ms =  pd.to_datetime(df.duration_ms, unit = 'ms')\n",
    "df.duration_ms = df['duration_ms'].dt.strftime('%M:%S')\n",
    "df = df.rename(columns = {'duration_ms':'duration_min'})"
   ]
  },
  {
   "cell_type": "code",
   "execution_count": 5,
   "id": "152ed3bb",
   "metadata": {},
   "outputs": [
    {
     "data": {
      "text/html": [
       "<div>\n",
       "<style scoped>\n",
       "    .dataframe tbody tr th:only-of-type {\n",
       "        vertical-align: middle;\n",
       "    }\n",
       "\n",
       "    .dataframe tbody tr th {\n",
       "        vertical-align: top;\n",
       "    }\n",
       "\n",
       "    .dataframe thead th {\n",
       "        text-align: right;\n",
       "    }\n",
       "</style>\n",
       "<table border=\"1\" class=\"dataframe\">\n",
       "  <thead>\n",
       "    <tr style=\"text-align: right;\">\n",
       "      <th></th>\n",
       "      <th>album</th>\n",
       "      <th>acousticness</th>\n",
       "      <th>danceability</th>\n",
       "      <th>energy</th>\n",
       "      <th>instrumentalness</th>\n",
       "      <th>liveness</th>\n",
       "      <th>loudness</th>\n",
       "      <th>speechiness</th>\n",
       "      <th>tempo</th>\n",
       "      <th>valence</th>\n",
       "      <th>duration_min</th>\n",
       "      <th>time_signature</th>\n",
       "      <th>Nota</th>\n",
       "      <th>Ano de Lançamento</th>\n",
       "      <th>País</th>\n",
       "    </tr>\n",
       "  </thead>\n",
       "  <tbody>\n",
       "    <tr>\n",
       "      <th>0</th>\n",
       "      <td>The Black Parade</td>\n",
       "      <td>0.106689</td>\n",
       "      <td>0.383714</td>\n",
       "      <td>0.801571</td>\n",
       "      <td>0.001833</td>\n",
       "      <td>0.208550</td>\n",
       "      <td>-4.228071</td>\n",
       "      <td>0.079036</td>\n",
       "      <td>138.339214</td>\n",
       "      <td>0.360000</td>\n",
       "      <td>03:42</td>\n",
       "      <td>3.928571</td>\n",
       "      <td>9.500</td>\n",
       "      <td>2006</td>\n",
       "      <td>EUA</td>\n",
       "    </tr>\n",
       "    <tr>\n",
       "      <th>1</th>\n",
       "      <td>An Evening With Silk Sonic</td>\n",
       "      <td>0.053501</td>\n",
       "      <td>0.662400</td>\n",
       "      <td>0.611200</td>\n",
       "      <td>0.000079</td>\n",
       "      <td>0.237810</td>\n",
       "      <td>-9.090100</td>\n",
       "      <td>0.057100</td>\n",
       "      <td>116.022300</td>\n",
       "      <td>0.662100</td>\n",
       "      <td>03:38</td>\n",
       "      <td>4.000000</td>\n",
       "      <td>9.500</td>\n",
       "      <td>2021</td>\n",
       "      <td>EUA</td>\n",
       "    </tr>\n",
       "    <tr>\n",
       "      <th>2</th>\n",
       "      <td>A Tábua de Esmeralda</td>\n",
       "      <td>0.545583</td>\n",
       "      <td>0.631583</td>\n",
       "      <td>0.570500</td>\n",
       "      <td>0.005155</td>\n",
       "      <td>0.194017</td>\n",
       "      <td>-13.686333</td>\n",
       "      <td>0.044667</td>\n",
       "      <td>123.820750</td>\n",
       "      <td>0.913917</td>\n",
       "      <td>03:21</td>\n",
       "      <td>3.916667</td>\n",
       "      <td>9.289</td>\n",
       "      <td>1974</td>\n",
       "      <td>Brasil</td>\n",
       "    </tr>\n",
       "    <tr>\n",
       "      <th>3</th>\n",
       "      <td>By The Way</td>\n",
       "      <td>0.051219</td>\n",
       "      <td>0.522833</td>\n",
       "      <td>0.826667</td>\n",
       "      <td>0.000690</td>\n",
       "      <td>0.186006</td>\n",
       "      <td>-3.970167</td>\n",
       "      <td>0.060567</td>\n",
       "      <td>120.965389</td>\n",
       "      <td>0.396167</td>\n",
       "      <td>04:15</td>\n",
       "      <td>4.000000</td>\n",
       "      <td>9.200</td>\n",
       "      <td>2002</td>\n",
       "      <td>EUA</td>\n",
       "    </tr>\n",
       "    <tr>\n",
       "      <th>4</th>\n",
       "      <td>Entren Los Que Quieran</td>\n",
       "      <td>0.333014</td>\n",
       "      <td>0.615000</td>\n",
       "      <td>0.721414</td>\n",
       "      <td>0.027082</td>\n",
       "      <td>0.221707</td>\n",
       "      <td>-7.195429</td>\n",
       "      <td>0.127800</td>\n",
       "      <td>115.417857</td>\n",
       "      <td>0.612914</td>\n",
       "      <td>03:45</td>\n",
       "      <td>3.857143</td>\n",
       "      <td>9.167</td>\n",
       "      <td>2010</td>\n",
       "      <td>Porto-Rico</td>\n",
       "    </tr>\n",
       "  </tbody>\n",
       "</table>\n",
       "</div>"
      ],
      "text/plain": [
       "                        album  acousticness  danceability    energy  \\\n",
       "0            The Black Parade      0.106689      0.383714  0.801571   \n",
       "1  An Evening With Silk Sonic      0.053501      0.662400  0.611200   \n",
       "2        A Tábua de Esmeralda      0.545583      0.631583  0.570500   \n",
       "3                  By The Way      0.051219      0.522833  0.826667   \n",
       "4      Entren Los Que Quieran      0.333014      0.615000  0.721414   \n",
       "\n",
       "   instrumentalness  liveness   loudness  speechiness       tempo   valence  \\\n",
       "0          0.001833  0.208550  -4.228071     0.079036  138.339214  0.360000   \n",
       "1          0.000079  0.237810  -9.090100     0.057100  116.022300  0.662100   \n",
       "2          0.005155  0.194017 -13.686333     0.044667  123.820750  0.913917   \n",
       "3          0.000690  0.186006  -3.970167     0.060567  120.965389  0.396167   \n",
       "4          0.027082  0.221707  -7.195429     0.127800  115.417857  0.612914   \n",
       "\n",
       "  duration_min  time_signature   Nota  Ano de Lançamento        País  \n",
       "0        03:42        3.928571  9.500               2006         EUA  \n",
       "1        03:38        4.000000  9.500               2021         EUA  \n",
       "2        03:21        3.916667  9.289               1974      Brasil  \n",
       "3        04:15        4.000000  9.200               2002         EUA  \n",
       "4        03:45        3.857143  9.167               2010  Porto-Rico  "
      ]
     },
     "execution_count": 5,
     "metadata": {},
     "output_type": "execute_result"
    }
   ],
   "source": [
    "df.head()"
   ]
  },
  {
   "cell_type": "code",
   "execution_count": 6,
   "id": "dca767c0",
   "metadata": {},
   "outputs": [
    {
     "data": {
      "text/html": [
       "<div>\n",
       "<style scoped>\n",
       "    .dataframe tbody tr th:only-of-type {\n",
       "        vertical-align: middle;\n",
       "    }\n",
       "\n",
       "    .dataframe tbody tr th {\n",
       "        vertical-align: top;\n",
       "    }\n",
       "\n",
       "    .dataframe thead th {\n",
       "        text-align: right;\n",
       "    }\n",
       "</style>\n",
       "<table border=\"1\" class=\"dataframe\">\n",
       "  <thead>\n",
       "    <tr style=\"text-align: right;\">\n",
       "      <th></th>\n",
       "      <th>País</th>\n",
       "      <th>album</th>\n",
       "    </tr>\n",
       "  </thead>\n",
       "  <tbody>\n",
       "    <tr>\n",
       "      <th>6</th>\n",
       "      <td>EUA</td>\n",
       "      <td>90</td>\n",
       "    </tr>\n",
       "    <tr>\n",
       "      <th>2</th>\n",
       "      <td>Brasil</td>\n",
       "      <td>46</td>\n",
       "    </tr>\n",
       "    <tr>\n",
       "      <th>19</th>\n",
       "      <td>UK</td>\n",
       "      <td>20</td>\n",
       "    </tr>\n",
       "  </tbody>\n",
       "</table>\n",
       "</div>"
      ],
      "text/plain": [
       "      País  album\n",
       "6      EUA     90\n",
       "2   Brasil     46\n",
       "19      UK     20"
      ]
     },
     "execution_count": 6,
     "metadata": {},
     "output_type": "execute_result"
    }
   ],
   "source": [
    "df.groupby('País', as_index = False).agg({'album':'count'}).sort_values('album', ascending = False).head(3)\n",
    "#ТОП-3 страны происхождения альбомов"
   ]
  },
  {
   "cell_type": "code",
   "execution_count": 7,
   "id": "647f0105",
   "metadata": {},
   "outputs": [
    {
     "data": {
      "text/html": [
       "<div>\n",
       "<style scoped>\n",
       "    .dataframe tbody tr th:only-of-type {\n",
       "        vertical-align: middle;\n",
       "    }\n",
       "\n",
       "    .dataframe tbody tr th {\n",
       "        vertical-align: top;\n",
       "    }\n",
       "\n",
       "    .dataframe thead th {\n",
       "        text-align: right;\n",
       "    }\n",
       "</style>\n",
       "<table border=\"1\" class=\"dataframe\">\n",
       "  <thead>\n",
       "    <tr style=\"text-align: right;\">\n",
       "      <th></th>\n",
       "      <th>Ano de Lançamento</th>\n",
       "      <th>album</th>\n",
       "    </tr>\n",
       "  </thead>\n",
       "  <tbody>\n",
       "    <tr>\n",
       "      <th>45</th>\n",
       "      <td>2019</td>\n",
       "      <td>15</td>\n",
       "    </tr>\n",
       "    <tr>\n",
       "      <th>43</th>\n",
       "      <td>2017</td>\n",
       "      <td>10</td>\n",
       "    </tr>\n",
       "    <tr>\n",
       "      <th>47</th>\n",
       "      <td>2021</td>\n",
       "      <td>10</td>\n",
       "    </tr>\n",
       "  </tbody>\n",
       "</table>\n",
       "</div>"
      ],
      "text/plain": [
       "    Ano de Lançamento  album\n",
       "45               2019     15\n",
       "43               2017     10\n",
       "47               2021     10"
      ]
     },
     "execution_count": 7,
     "metadata": {},
     "output_type": "execute_result"
    }
   ],
   "source": [
    "df.groupby('Ano de Lançamento', as_index = False).agg({'album':'count'}).sort_values('album', ascending = False).head(3)\n",
    "#ТОП-3 года выпуска альбомов по колличеству раз прослушанных сообществом"
   ]
  },
  {
   "cell_type": "code",
   "execution_count": 53,
   "id": "d0dc80a7",
   "metadata": {},
   "outputs": [
    {
     "data": {
      "text/plain": [
       "{'Min Duration': '01:22', 'Mean Duration': '03:49', 'Max Duration': '21:09'}"
      ]
     },
     "execution_count": 53,
     "metadata": {},
     "output_type": "execute_result"
    }
   ],
   "source": [
    "{'Min Duration' : pd.to_datetime(df.duration_min).min().strftime('%H:%M'), \n",
    "'Mean Duration' : pd.to_datetime(df.duration_min).mean().strftime('%H:%M'),\n",
    "'Max Duration' : pd.to_datetime(df.duration_min).max().strftime('%H:%M')}\n",
    "#Минимальная, средняя и максимальнын продолжительности прослушивания альбомов в минутах"
   ]
  },
  {
   "cell_type": "code",
   "execution_count": 59,
   "id": "64661b58",
   "metadata": {},
   "outputs": [
    {
     "data": {
      "image/png": "[encoded data removed]",
      "text/plain": [
       "<Figure size 792x648 with 1 Axes>"
      ]
     },
     "metadata": {},
     "output_type": "display_data"
    }
   ],
   "source": [
    "sns.scatterplot(df['Ano de Lançamento'], df.tempo)\n",
    "sns.set(rc={'figure.figsize':(11,9)})\n",
    "#Распределение темпа музыкальных альбомов по годам выпуска"
   ]
  },
  {
   "cell_type": "markdown",
   "id": "ddf82410",
   "metadata": {},
   "source": [
    "### По данному граффику можно сделать вывод что в основном темп среди альбомов распределен в диапазоне 110 - 140, при чем есть выбросы как в большую так и в меньшую сторону"
   ]
  },
  {
   "cell_type": "code",
   "execution_count": 10,
   "id": "c24782d5",
   "metadata": {},
   "outputs": [],
   "source": [
    "df.Nota = round(df.Nota, 1)\n",
    "#Округелние Оценки до одного знака"
   ]
  },
  {
   "cell_type": "code",
   "execution_count": 61,
   "id": "1df17ec6",
   "metadata": {},
   "outputs": [
    {
     "data": {
      "text/plain": [
       "<AxesSubplot:xlabel='danceability', ylabel='Density'>"
      ]
     },
     "execution_count": 61,
     "metadata": {},
     "output_type": "execute_result"
    },
    {
     "data": {
      "image/png": "[encoded data removed]",
      "text/plain": [
       "<Figure size 792x648 with 1 Axes>"
      ]
     },
     "metadata": {},
     "output_type": "display_data"
    }
   ],
   "source": [
    "sns.distplot(df.query(\"Nota < 8\").danceability, color = 'blue')\n",
    "sns.distplot(df.query(\"Nota > 8\").danceability, color = 'red')\n",
    "#Распределение метрики танцевальности среди альбомов с оценкой выше и ниже 8"
   ]
  },
  {
   "cell_type": "code",
   "execution_count": 12,
   "id": "50955892",
   "metadata": {},
   "outputs": [
    {
     "data": {
      "text/plain": [
       "{'Average Dancebility of albums with Nota < 8': 0.5332298674039054,\n",
       " 'Average Dancebility of albums with Nota > 8': 0.5562518654920579}"
      ]
     },
     "execution_count": 12,
     "metadata": {},
     "output_type": "execute_result"
    }
   ],
   "source": [
    "{'Average Dancebility of albums with Nota < 8': df.query(\"Nota < 8\").danceability.mean(), 'Average Dancebility of albums with Nota > 8': df.query(\"Nota > 8\").danceability.mean()}"
   ]
  },
  {
   "cell_type": "markdown",
   "id": "a97d7d06",
   "metadata": {},
   "source": [
    "### Средняя танцевальность альбомов с оценкой >8 выше на 5% чем танцевальность альбомов с оценкой <8. Выясним статически значимы ли эти различия с помощью A/B теста"
   ]
  },
  {
   "cell_type": "code",
   "execution_count": 13,
   "id": "10eeee05",
   "metadata": {},
   "outputs": [
    {
     "data": {
      "text/plain": [
       "{'<8': ShapiroResult(statistic=0.9851793050765991, pvalue=0.4084910452365875),\n",
       " '>8': ShapiroResult(statistic=0.9741335511207581, pvalue=0.11301808059215546)}"
      ]
     },
     "execution_count": 13,
     "metadata": {},
     "output_type": "execute_result"
    }
   ],
   "source": [
    "{'<8': ss.shapiro(df.query(\"Nota < 8\").danceability), '>8': ss.shapiro(df.query(\"Nota > 8\").danceability)}\n",
    "#Данные распределены нормально в обоих распределениях. Тест шапиро это подтверждает. \n",
    "#Значит для теста следует использовать T-критерий Стьюдента"
   ]
  },
  {
   "cell_type": "code",
   "execution_count": 14,
   "id": "d2405f49",
   "metadata": {},
   "outputs": [
    {
     "data": {
      "text/plain": [
       "Ttest_indResult(statistic=-1.2078435050378502, pvalue=0.22883585845640297)"
      ]
     },
     "execution_count": 14,
     "metadata": {},
     "output_type": "execute_result"
    }
   ],
   "source": [
    "ss.ttest_ind(df.query(\"Nota < 8\").danceability, df.query(\"Nota > 8\").danceability)"
   ]
  },
  {
   "cell_type": "markdown",
   "id": "49109e6c",
   "metadata": {},
   "source": [
    "### По результатам T-статистики = -1.2078435050378502, pvalue = 0.223, можно интерпретировать что нулевая гипотеза о равенстве средних не отклонена, статистически значимых различий обнаружить не удалось, а значит танцевальность не оказывает влияние на оценку альбомов в диапазоне оценок <8 - >8"
   ]
  },
  {
   "cell_type": "code",
   "execution_count": 35,
   "id": "4cc252ee",
   "metadata": {},
   "outputs": [
    {
     "data": {
      "text/html": [
       "<div>\n",
       "<style scoped>\n",
       "    .dataframe tbody tr th:only-of-type {\n",
       "        vertical-align: middle;\n",
       "    }\n",
       "\n",
       "    .dataframe tbody tr th {\n",
       "        vertical-align: top;\n",
       "    }\n",
       "\n",
       "    .dataframe thead th {\n",
       "        text-align: right;\n",
       "    }\n",
       "</style>\n",
       "<table border=\"1\" class=\"dataframe\">\n",
       "  <thead>\n",
       "    <tr style=\"text-align: right;\">\n",
       "      <th></th>\n",
       "      <th>Nota</th>\n",
       "    </tr>\n",
       "    <tr>\n",
       "      <th>País</th>\n",
       "      <th></th>\n",
       "    </tr>\n",
       "  </thead>\n",
       "  <tbody>\n",
       "    <tr>\n",
       "      <th>UK, Austrália e EUA</th>\n",
       "      <td>8.800000</td>\n",
       "    </tr>\n",
       "    <tr>\n",
       "      <th>Wales (UK)</th>\n",
       "      <td>8.700000</td>\n",
       "    </tr>\n",
       "    <tr>\n",
       "      <th>Armênia</th>\n",
       "      <td>8.700000</td>\n",
       "    </tr>\n",
       "    <tr>\n",
       "      <th>Irlanda / EUA</th>\n",
       "      <td>8.600000</td>\n",
       "    </tr>\n",
       "    <tr>\n",
       "      <th>Coréia</th>\n",
       "      <td>8.400000</td>\n",
       "    </tr>\n",
       "    <tr>\n",
       "      <th>Irlanda</th>\n",
       "      <td>8.400000</td>\n",
       "    </tr>\n",
       "    <tr>\n",
       "      <th>Espanha</th>\n",
       "      <td>8.300000</td>\n",
       "    </tr>\n",
       "    <tr>\n",
       "      <th>França</th>\n",
       "      <td>8.250000</td>\n",
       "    </tr>\n",
       "    <tr>\n",
       "      <th>Ireland</th>\n",
       "      <td>8.200000</td>\n",
       "    </tr>\n",
       "    <tr>\n",
       "      <th>Colômbia</th>\n",
       "      <td>8.200000</td>\n",
       "    </tr>\n",
       "    <tr>\n",
       "      <th>Argentina</th>\n",
       "      <td>8.150000</td>\n",
       "    </tr>\n",
       "    <tr>\n",
       "      <th>Porto-Rico</th>\n",
       "      <td>8.100000</td>\n",
       "    </tr>\n",
       "    <tr>\n",
       "      <th>UK</th>\n",
       "      <td>8.020000</td>\n",
       "    </tr>\n",
       "    <tr>\n",
       "      <th>Jamaica</th>\n",
       "      <td>8.000000</td>\n",
       "    </tr>\n",
       "    <tr>\n",
       "      <th>Nova Zelândia</th>\n",
       "      <td>8.000000</td>\n",
       "    </tr>\n",
       "    <tr>\n",
       "      <th>EUA</th>\n",
       "      <td>7.787778</td>\n",
       "    </tr>\n",
       "    <tr>\n",
       "      <th>Brasil</th>\n",
       "      <td>7.689130</td>\n",
       "    </tr>\n",
       "    <tr>\n",
       "      <th>Holanda</th>\n",
       "      <td>7.600000</td>\n",
       "    </tr>\n",
       "    <tr>\n",
       "      <th>Canadá</th>\n",
       "      <td>7.000000</td>\n",
       "    </tr>\n",
       "    <tr>\n",
       "      <th>Japão</th>\n",
       "      <td>6.950000</td>\n",
       "    </tr>\n",
       "    <tr>\n",
       "      <th>Itália</th>\n",
       "      <td>6.900000</td>\n",
       "    </tr>\n",
       "    <tr>\n",
       "      <th>Rep. Tcheca</th>\n",
       "      <td>6.200000</td>\n",
       "    </tr>\n",
       "  </tbody>\n",
       "</table>\n",
       "</div>"
      ],
      "text/plain": [
       "                         Nota\n",
       "País                         \n",
       "UK, Austrália e EUA  8.800000\n",
       "Wales (UK)           8.700000\n",
       "Armênia              8.700000\n",
       "Irlanda / EUA        8.600000\n",
       "Coréia               8.400000\n",
       "Irlanda              8.400000\n",
       "Espanha              8.300000\n",
       "França               8.250000\n",
       "Ireland              8.200000\n",
       "Colômbia             8.200000\n",
       "Argentina            8.150000\n",
       "Porto-Rico           8.100000\n",
       "UK                   8.020000\n",
       "Jamaica              8.000000\n",
       "Nova Zelândia        8.000000\n",
       "EUA                  7.787778\n",
       "Brasil               7.689130\n",
       "Holanda              7.600000\n",
       "Canadá               7.000000\n",
       "Japão                6.950000\n",
       "Itália               6.900000\n",
       "Rep. Tcheca          6.200000"
      ]
     },
     "execution_count": 35,
     "metadata": {},
     "output_type": "execute_result"
    }
   ],
   "source": [
    "df.groupby('País').agg({'Nota':'mean'}).sort_values('Nota', ascending = False)\n",
    "#Рейтинг стран происхождения альбомов по средней оценке"
   ]
  },
  {
   "cell_type": "code",
   "execution_count": 43,
   "id": "405695c6",
   "metadata": {},
   "outputs": [
    {
     "data": {
      "text/plain": [
       "{'Other countries speechness mean:': 0.08653219990127362,\n",
       " 'Brasil speechness mean:': 0.11258591815443335}"
      ]
     },
     "execution_count": 43,
     "metadata": {},
     "output_type": "execute_result"
    }
   ],
   "source": [
    "{'Other countries speechness mean:' : df.query(\"País != 'Brasil'\").speechiness.mean(), 'Brasil speechness mean:' : df.query(\"País == 'Brasil'\").speechiness.mean()}"
   ]
  },
  {
   "cell_type": "markdown",
   "id": "491f69ca",
   "metadata": {},
   "source": [
    "### Ср. уровень речевости альбомов Бразилии, выше чем ср. уровень речевости альбомов из остального мира на 30%. Выясним статически значимы ли эти различия"
   ]
  },
  {
   "cell_type": "code",
   "execution_count": 62,
   "id": "c51e6bc4",
   "metadata": {},
   "outputs": [
    {
     "data": {
      "text/plain": [
       "<AxesSubplot:xlabel='speechiness', ylabel='Density'>"
      ]
     },
     "execution_count": 62,
     "metadata": {},
     "output_type": "execute_result"
    },
    {
     "data": {
      "image/png": "[encoded data removed]",
      "text/plain": [
       "<Figure size 792x648 with 1 Axes>"
      ]
     },
     "metadata": {},
     "output_type": "display_data"
    }
   ],
   "source": [
    "sns.distplot(df.query(\"País == 'Brasil'\").speechiness, color = 'yellow')\n",
    "sns.distplot(df.query(\"País != 'Brasil'\").speechiness, color = 'blue')\n",
    "#Распределения уровня речевости альбомов из Бразилии (желтый) и остального мира (синий)"
   ]
  },
  {
   "cell_type": "code",
   "execution_count": 48,
   "id": "07bac525",
   "metadata": {},
   "outputs": [
    {
     "data": {
      "text/plain": [
       "{'Other world': ShapiroResult(statistic=0.7465658187866211, pvalue=7.239005131009363e-14),\n",
       " 'Brasil': ShapiroResult(statistic=0.6949820518493652, pvalue=1.7610322089467445e-08)}"
      ]
     },
     "execution_count": 48,
     "metadata": {},
     "output_type": "execute_result"
    }
   ],
   "source": [
    "{'Other world': ss.shapiro(df.query(\"País != 'Brasil'\").speechiness), 'Brasil': ss.shapiro(df.query(\"País == 'Brasil'\").speechiness)}\n",
    "#Оба сета данных распределены ненормально. Соотвественно для теста выбираю U-критерий Стьюдента"
   ]
  },
  {
   "cell_type": "code",
   "execution_count": 49,
   "id": "15e2802f",
   "metadata": {},
   "outputs": [
    {
     "data": {
      "text/plain": [
       "MannwhitneyuResult(statistic=3244.0, pvalue=0.5424977512755047)"
      ]
     },
     "execution_count": 49,
     "metadata": {},
     "output_type": "execute_result"
    }
   ],
   "source": [
    "ss.mannwhitneyu(df.query(\"País != 'Brasil'\").speechiness, df.query(\"País == 'Brasil'\").speechiness)"
   ]
  },
  {
   "cell_type": "markdown",
   "id": "07ba692c",
   "metadata": {},
   "source": [
    "### С результатом U-статистики 3244б pvalue = 0.54, можно интепретировать что нулевая гипотеза о равенстве средних не была опровергнута, а значит статичтически значимая разница между речевостью альбомов из Бразилии и остального мира не подтверждена"
   ]
  },
  {
   "cell_type": "code",
   "execution_count": 63,
   "id": "4f55a37a",
   "metadata": {},
   "outputs": [
    {
     "data": {
      "text/plain": [
       "<AxesSubplot:xlabel='Nota', ylabel='energy'>"
      ]
     },
     "execution_count": 63,
     "metadata": {},
     "output_type": "execute_result"
    },
    {
     "data": {
      "image/png": "[encoded data removed]",
      "text/plain": [
       "<Figure size 792x648 with 1 Axes>"
      ]
     },
     "metadata": {},
     "output_type": "display_data"
    }
   ],
   "source": [
    "sns.scatterplot(df.Nota, df.energy)\n",
    "#Распределение показателя энергии по оценкам альбомов"
   ]
  },
  {
   "cell_type": "code",
   "execution_count": 56,
   "id": "fe66705b",
   "metadata": {},
   "outputs": [
    {
     "data": {
      "text/plain": [
       "(-0.03250741863341241, 0.665750955032847)"
      ]
     },
     "execution_count": 56,
     "metadata": {},
     "output_type": "execute_result"
    }
   ],
   "source": [
    "ss.pearsonr(df.Nota, df.energy)"
   ]
  },
  {
   "cell_type": "markdown",
   "id": "9861abd1",
   "metadata": {},
   "source": [
    "### Коэф. корреляции = -0.0325, pvalue = 0.665. Корреляция между значениями энергии и оценкой альбома не обнаружена"
   ]
  },
  {
   "cell_type": "code",
   "execution_count": 64,
   "id": "69520705",
   "metadata": {},
   "outputs": [
    {
     "data": {
      "text/plain": [
       "<AxesSubplot:xlabel='Nota', ylabel='valence'>"
      ]
     },
     "execution_count": 64,
     "metadata": {},
     "output_type": "execute_result"
    },
    {
     "data": {
      "image/png": "[encoded data removed]",
      "text/plain": [
       "<Figure size 792x648 with 1 Axes>"
      ]
     },
     "metadata": {},
     "output_type": "display_data"
    }
   ],
   "source": [
    "sns.scatterplot(df.Nota, df.valence)\n",
    "#Распределение показателя валентности по оценкам альбомов"
   ]
  },
  {
   "cell_type": "code",
   "execution_count": 58,
   "id": "a3559726",
   "metadata": {},
   "outputs": [
    {
     "data": {
      "text/plain": [
       "(0.0610264202551045, 0.4170702585509589)"
      ]
     },
     "execution_count": 58,
     "metadata": {},
     "output_type": "execute_result"
    }
   ],
   "source": [
    "ss.pearsonr(df.Nota, df.valence)"
   ]
  },
  {
   "cell_type": "markdown",
   "id": "ceaea0d4",
   "metadata": {},
   "source": [
    "### Коэф. корреляции = 0.061, pvalue = 0.417. Корреляция между значениями валентности и оценкой альбома не обнаружена"
   ]
  },
  {
   "cell_type": "code",
   "execution_count": null,
   "id": "5c7ad567",
   "metadata": {},
   "outputs": [],
   "source": []
  }
 ],
 "metadata": {
  "kernelspec": {
   "display_name": "Python 3 (ipykernel)",
   "language": "python",
   "name": "python3"
  },
  "language_info": {
   "codemirror_mode": {
    "name": "ipython",
    "version": 3
   },
   "file_extension": ".py",
   "mimetype": "text/x-python",
   "name": "python",
   "nbconvert_exporter": "python",
   "pygments_lexer": "ipython3",
   "version": "3.9.12"
  }
 },
 "nbformat": 4,
 "nbformat_minor": 5
}
